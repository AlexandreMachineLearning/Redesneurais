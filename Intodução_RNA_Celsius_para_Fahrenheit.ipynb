{
  "nbformat": 4,
  "nbformat_minor": 0,
  "metadata": {
    "colab": {
      "name": "Intodução RNA Celsius para Fahrenheit.ipynb",
      "provenance": [],
      "collapsed_sections": [],
      "include_colab_link": true
    },
    "kernelspec": {
      "name": "python3",
      "display_name": "Python 3"
    },
    "accelerator": "GPU"
  },
  "cells": [
    {
      "cell_type": "markdown",
      "metadata": {
        "id": "view-in-github",
        "colab_type": "text"
      },
      "source": [
        "<a href=\"https://colab.research.google.com/github/AlexandreMachineLearning/Redesneurais/blob/main/Intodu%C3%A7%C3%A3o_RNA_Celsius_para_Fahrenheit.ipynb\" target=\"_parent\"><img src=\"https://colab.research.google.com/assets/colab-badge.svg\" alt=\"Open In Colab\"/></a>"
      ]
    },
    {
      "cell_type": "markdown",
      "metadata": {
        "id": "M27qF7CTrBqc"
      },
      "source": [
        "# Definição do problema\n"
      ]
    },
    {
      "cell_type": "markdown",
      "source": [
        "Necessidade de construção de um modelo para a conversão de temperaturas entre as escalas Celsius e Fahrenheit"
      ],
      "metadata": {
        "id": "cC9pzhU6Vlet"
      }
    },
    {
      "cell_type": "markdown",
      "metadata": {
        "id": "iCj2rwwHBB1I"
      },
      "source": [
        "\n",
        "- Equação para conversão: **T(°F) = T(°C) × 9/5 + 32**"
      ]
    },
    {
      "cell_type": "markdown",
      "metadata": {
        "id": "zKmFmyaGunc7"
      },
      "source": [
        "# Passo 1: Importação das bibliotecas"
      ]
    },
    {
      "cell_type": "code",
      "metadata": {
        "id": "xN2OHTJDKpSV",
        "colab": {
          "base_uri": "https://localhost:8080/",
          "height": 35
        },
        "outputId": "4fe49339-ed20-48c0-c22f-28d896662dd4"
      },
      "source": [
        "%tensorflow_version 2.x\n",
        "import tensorflow as tf\n",
        "tf.__version__"
      ],
      "execution_count": 30,
      "outputs": [
        {
          "output_type": "execute_result",
          "data": {
            "application/vnd.google.colaboratory.intrinsic+json": {
              "type": "string"
            },
            "text/plain": [
              "'2.7.0'"
            ]
          },
          "metadata": {},
          "execution_count": 30
        }
      ]
    },
    {
      "cell_type": "code",
      "metadata": {
        "id": "tUVlXNPXK7ZJ"
      },
      "source": [
        "import pandas as pd\n",
        "import numpy as np\n",
        "import seaborn as sns\n",
        "import matplotlib.pyplot as plt"
      ],
      "execution_count": 31,
      "outputs": []
    },
    {
      "cell_type": "markdown",
      "metadata": {
        "id": "uAE6Icc0uylP"
      },
      "source": [
        "# Passo 2: Importação da base de dados"
      ]
    },
    {
      "cell_type": "code",
      "metadata": {
        "id": "Vh1ytDaOLKRe"
      },
      "source": [
        "temperature_df = pd.read_csv('/content/Celsius-to-Fahrenheit.csv')\n",
        "temperature_df.reset_index(drop = True, inplace = True)"
      ],
      "execution_count": 32,
      "outputs": []
    },
    {
      "cell_type": "code",
      "metadata": {
        "id": "O5UvWWVrLkN1",
        "colab": {
          "base_uri": "https://localhost:8080/",
          "height": 990
        },
        "outputId": "54057eea-e85d-496e-8f19-e58f38339d92"
      },
      "source": [
        "temperature_df"
      ],
      "execution_count": 33,
      "outputs": [
        {
          "output_type": "execute_result",
          "data": {
            "text/html": [
              "\n",
              "  <div id=\"df-a760dfd7-68e8-4e60-853f-7107a75155ec\">\n",
              "    <div class=\"colab-df-container\">\n",
              "      <div>\n",
              "<style scoped>\n",
              "    .dataframe tbody tr th:only-of-type {\n",
              "        vertical-align: middle;\n",
              "    }\n",
              "\n",
              "    .dataframe tbody tr th {\n",
              "        vertical-align: top;\n",
              "    }\n",
              "\n",
              "    .dataframe thead th {\n",
              "        text-align: right;\n",
              "    }\n",
              "</style>\n",
              "<table border=\"1\" class=\"dataframe\">\n",
              "  <thead>\n",
              "    <tr style=\"text-align: right;\">\n",
              "      <th></th>\n",
              "      <th>Celsius</th>\n",
              "      <th>Fahrenheit</th>\n",
              "    </tr>\n",
              "  </thead>\n",
              "  <tbody>\n",
              "    <tr>\n",
              "      <th>0</th>\n",
              "      <td>-50</td>\n",
              "      <td>-58.0</td>\n",
              "    </tr>\n",
              "    <tr>\n",
              "      <th>1</th>\n",
              "      <td>-40</td>\n",
              "      <td>-40.0</td>\n",
              "    </tr>\n",
              "    <tr>\n",
              "      <th>2</th>\n",
              "      <td>-30</td>\n",
              "      <td>-22.0</td>\n",
              "    </tr>\n",
              "    <tr>\n",
              "      <th>3</th>\n",
              "      <td>-20</td>\n",
              "      <td>-4.0</td>\n",
              "    </tr>\n",
              "    <tr>\n",
              "      <th>4</th>\n",
              "      <td>-10</td>\n",
              "      <td>14.0</td>\n",
              "    </tr>\n",
              "    <tr>\n",
              "      <th>5</th>\n",
              "      <td>-9</td>\n",
              "      <td>15.8</td>\n",
              "    </tr>\n",
              "    <tr>\n",
              "      <th>6</th>\n",
              "      <td>-8</td>\n",
              "      <td>17.6</td>\n",
              "    </tr>\n",
              "    <tr>\n",
              "      <th>7</th>\n",
              "      <td>-7</td>\n",
              "      <td>19.4</td>\n",
              "    </tr>\n",
              "    <tr>\n",
              "      <th>8</th>\n",
              "      <td>-6</td>\n",
              "      <td>21.2</td>\n",
              "    </tr>\n",
              "    <tr>\n",
              "      <th>9</th>\n",
              "      <td>-5</td>\n",
              "      <td>23.0</td>\n",
              "    </tr>\n",
              "    <tr>\n",
              "      <th>10</th>\n",
              "      <td>-4</td>\n",
              "      <td>24.8</td>\n",
              "    </tr>\n",
              "    <tr>\n",
              "      <th>11</th>\n",
              "      <td>-3</td>\n",
              "      <td>26.6</td>\n",
              "    </tr>\n",
              "    <tr>\n",
              "      <th>12</th>\n",
              "      <td>-2</td>\n",
              "      <td>28.4</td>\n",
              "    </tr>\n",
              "    <tr>\n",
              "      <th>13</th>\n",
              "      <td>-1</td>\n",
              "      <td>30.2</td>\n",
              "    </tr>\n",
              "    <tr>\n",
              "      <th>14</th>\n",
              "      <td>0</td>\n",
              "      <td>32.0</td>\n",
              "    </tr>\n",
              "    <tr>\n",
              "      <th>15</th>\n",
              "      <td>1</td>\n",
              "      <td>33.8</td>\n",
              "    </tr>\n",
              "    <tr>\n",
              "      <th>16</th>\n",
              "      <td>2</td>\n",
              "      <td>35.6</td>\n",
              "    </tr>\n",
              "    <tr>\n",
              "      <th>17</th>\n",
              "      <td>3</td>\n",
              "      <td>37.4</td>\n",
              "    </tr>\n",
              "    <tr>\n",
              "      <th>18</th>\n",
              "      <td>4</td>\n",
              "      <td>39.2</td>\n",
              "    </tr>\n",
              "    <tr>\n",
              "      <th>19</th>\n",
              "      <td>5</td>\n",
              "      <td>41.0</td>\n",
              "    </tr>\n",
              "    <tr>\n",
              "      <th>20</th>\n",
              "      <td>6</td>\n",
              "      <td>42.8</td>\n",
              "    </tr>\n",
              "    <tr>\n",
              "      <th>21</th>\n",
              "      <td>7</td>\n",
              "      <td>44.6</td>\n",
              "    </tr>\n",
              "    <tr>\n",
              "      <th>22</th>\n",
              "      <td>8</td>\n",
              "      <td>46.4</td>\n",
              "    </tr>\n",
              "    <tr>\n",
              "      <th>23</th>\n",
              "      <td>9</td>\n",
              "      <td>48.2</td>\n",
              "    </tr>\n",
              "    <tr>\n",
              "      <th>24</th>\n",
              "      <td>10</td>\n",
              "      <td>50.0</td>\n",
              "    </tr>\n",
              "    <tr>\n",
              "      <th>25</th>\n",
              "      <td>20</td>\n",
              "      <td>68.0</td>\n",
              "    </tr>\n",
              "    <tr>\n",
              "      <th>26</th>\n",
              "      <td>30</td>\n",
              "      <td>86.0</td>\n",
              "    </tr>\n",
              "    <tr>\n",
              "      <th>27</th>\n",
              "      <td>40</td>\n",
              "      <td>104.0</td>\n",
              "    </tr>\n",
              "    <tr>\n",
              "      <th>28</th>\n",
              "      <td>50</td>\n",
              "      <td>122.0</td>\n",
              "    </tr>\n",
              "    <tr>\n",
              "      <th>29</th>\n",
              "      <td>60</td>\n",
              "      <td>140.0</td>\n",
              "    </tr>\n",
              "  </tbody>\n",
              "</table>\n",
              "</div>\n",
              "      <button class=\"colab-df-convert\" onclick=\"convertToInteractive('df-a760dfd7-68e8-4e60-853f-7107a75155ec')\"\n",
              "              title=\"Convert this dataframe to an interactive table.\"\n",
              "              style=\"display:none;\">\n",
              "        \n",
              "  <svg xmlns=\"http://www.w3.org/2000/svg\" height=\"24px\"viewBox=\"0 0 24 24\"\n",
              "       width=\"24px\">\n",
              "    <path d=\"M0 0h24v24H0V0z\" fill=\"none\"/>\n",
              "    <path d=\"M18.56 5.44l.94 2.06.94-2.06 2.06-.94-2.06-.94-.94-2.06-.94 2.06-2.06.94zm-11 1L8.5 8.5l.94-2.06 2.06-.94-2.06-.94L8.5 2.5l-.94 2.06-2.06.94zm10 10l.94 2.06.94-2.06 2.06-.94-2.06-.94-.94-2.06-.94 2.06-2.06.94z\"/><path d=\"M17.41 7.96l-1.37-1.37c-.4-.4-.92-.59-1.43-.59-.52 0-1.04.2-1.43.59L10.3 9.45l-7.72 7.72c-.78.78-.78 2.05 0 2.83L4 21.41c.39.39.9.59 1.41.59.51 0 1.02-.2 1.41-.59l7.78-7.78 2.81-2.81c.8-.78.8-2.07 0-2.86zM5.41 20L4 18.59l7.72-7.72 1.47 1.35L5.41 20z\"/>\n",
              "  </svg>\n",
              "      </button>\n",
              "      \n",
              "  <style>\n",
              "    .colab-df-container {\n",
              "      display:flex;\n",
              "      flex-wrap:wrap;\n",
              "      gap: 12px;\n",
              "    }\n",
              "\n",
              "    .colab-df-convert {\n",
              "      background-color: #E8F0FE;\n",
              "      border: none;\n",
              "      border-radius: 50%;\n",
              "      cursor: pointer;\n",
              "      display: none;\n",
              "      fill: #1967D2;\n",
              "      height: 32px;\n",
              "      padding: 0 0 0 0;\n",
              "      width: 32px;\n",
              "    }\n",
              "\n",
              "    .colab-df-convert:hover {\n",
              "      background-color: #E2EBFA;\n",
              "      box-shadow: 0px 1px 2px rgba(60, 64, 67, 0.3), 0px 1px 3px 1px rgba(60, 64, 67, 0.15);\n",
              "      fill: #174EA6;\n",
              "    }\n",
              "\n",
              "    [theme=dark] .colab-df-convert {\n",
              "      background-color: #3B4455;\n",
              "      fill: #D2E3FC;\n",
              "    }\n",
              "\n",
              "    [theme=dark] .colab-df-convert:hover {\n",
              "      background-color: #434B5C;\n",
              "      box-shadow: 0px 1px 3px 1px rgba(0, 0, 0, 0.15);\n",
              "      filter: drop-shadow(0px 1px 2px rgba(0, 0, 0, 0.3));\n",
              "      fill: #FFFFFF;\n",
              "    }\n",
              "  </style>\n",
              "\n",
              "      <script>\n",
              "        const buttonEl =\n",
              "          document.querySelector('#df-a760dfd7-68e8-4e60-853f-7107a75155ec button.colab-df-convert');\n",
              "        buttonEl.style.display =\n",
              "          google.colab.kernel.accessAllowed ? 'block' : 'none';\n",
              "\n",
              "        async function convertToInteractive(key) {\n",
              "          const element = document.querySelector('#df-a760dfd7-68e8-4e60-853f-7107a75155ec');\n",
              "          const dataTable =\n",
              "            await google.colab.kernel.invokeFunction('convertToInteractive',\n",
              "                                                     [key], {});\n",
              "          if (!dataTable) return;\n",
              "\n",
              "          const docLinkHtml = 'Like what you see? Visit the ' +\n",
              "            '<a target=\"_blank\" href=https://colab.research.google.com/notebooks/data_table.ipynb>data table notebook</a>'\n",
              "            + ' to learn more about interactive tables.';\n",
              "          element.innerHTML = '';\n",
              "          dataTable['output_type'] = 'display_data';\n",
              "          await google.colab.output.renderOutput(dataTable, element);\n",
              "          const docLink = document.createElement('div');\n",
              "          docLink.innerHTML = docLinkHtml;\n",
              "          element.appendChild(docLink);\n",
              "        }\n",
              "      </script>\n",
              "    </div>\n",
              "  </div>\n",
              "  "
            ],
            "text/plain": [
              "    Celsius  Fahrenheit\n",
              "0       -50       -58.0\n",
              "1       -40       -40.0\n",
              "2       -30       -22.0\n",
              "3       -20        -4.0\n",
              "4       -10        14.0\n",
              "5        -9        15.8\n",
              "6        -8        17.6\n",
              "7        -7        19.4\n",
              "8        -6        21.2\n",
              "9        -5        23.0\n",
              "10       -4        24.8\n",
              "11       -3        26.6\n",
              "12       -2        28.4\n",
              "13       -1        30.2\n",
              "14        0        32.0\n",
              "15        1        33.8\n",
              "16        2        35.6\n",
              "17        3        37.4\n",
              "18        4        39.2\n",
              "19        5        41.0\n",
              "20        6        42.8\n",
              "21        7        44.6\n",
              "22        8        46.4\n",
              "23        9        48.2\n",
              "24       10        50.0\n",
              "25       20        68.0\n",
              "26       30        86.0\n",
              "27       40       104.0\n",
              "28       50       122.0\n",
              "29       60       140.0"
            ]
          },
          "metadata": {},
          "execution_count": 33
        }
      ]
    },
    {
      "cell_type": "code",
      "metadata": {
        "id": "XtB0bm20L1bZ",
        "colab": {
          "base_uri": "https://localhost:8080/",
          "height": 206
        },
        "outputId": "50866546-0115-4b54-ec00-ebb1bcb65909"
      },
      "source": [
        "temperature_df.head()"
      ],
      "execution_count": 34,
      "outputs": [
        {
          "output_type": "execute_result",
          "data": {
            "text/html": [
              "\n",
              "  <div id=\"df-59ed4634-4006-4427-917c-d1300aae6ed0\">\n",
              "    <div class=\"colab-df-container\">\n",
              "      <div>\n",
              "<style scoped>\n",
              "    .dataframe tbody tr th:only-of-type {\n",
              "        vertical-align: middle;\n",
              "    }\n",
              "\n",
              "    .dataframe tbody tr th {\n",
              "        vertical-align: top;\n",
              "    }\n",
              "\n",
              "    .dataframe thead th {\n",
              "        text-align: right;\n",
              "    }\n",
              "</style>\n",
              "<table border=\"1\" class=\"dataframe\">\n",
              "  <thead>\n",
              "    <tr style=\"text-align: right;\">\n",
              "      <th></th>\n",
              "      <th>Celsius</th>\n",
              "      <th>Fahrenheit</th>\n",
              "    </tr>\n",
              "  </thead>\n",
              "  <tbody>\n",
              "    <tr>\n",
              "      <th>0</th>\n",
              "      <td>-50</td>\n",
              "      <td>-58.0</td>\n",
              "    </tr>\n",
              "    <tr>\n",
              "      <th>1</th>\n",
              "      <td>-40</td>\n",
              "      <td>-40.0</td>\n",
              "    </tr>\n",
              "    <tr>\n",
              "      <th>2</th>\n",
              "      <td>-30</td>\n",
              "      <td>-22.0</td>\n",
              "    </tr>\n",
              "    <tr>\n",
              "      <th>3</th>\n",
              "      <td>-20</td>\n",
              "      <td>-4.0</td>\n",
              "    </tr>\n",
              "    <tr>\n",
              "      <th>4</th>\n",
              "      <td>-10</td>\n",
              "      <td>14.0</td>\n",
              "    </tr>\n",
              "  </tbody>\n",
              "</table>\n",
              "</div>\n",
              "      <button class=\"colab-df-convert\" onclick=\"convertToInteractive('df-59ed4634-4006-4427-917c-d1300aae6ed0')\"\n",
              "              title=\"Convert this dataframe to an interactive table.\"\n",
              "              style=\"display:none;\">\n",
              "        \n",
              "  <svg xmlns=\"http://www.w3.org/2000/svg\" height=\"24px\"viewBox=\"0 0 24 24\"\n",
              "       width=\"24px\">\n",
              "    <path d=\"M0 0h24v24H0V0z\" fill=\"none\"/>\n",
              "    <path d=\"M18.56 5.44l.94 2.06.94-2.06 2.06-.94-2.06-.94-.94-2.06-.94 2.06-2.06.94zm-11 1L8.5 8.5l.94-2.06 2.06-.94-2.06-.94L8.5 2.5l-.94 2.06-2.06.94zm10 10l.94 2.06.94-2.06 2.06-.94-2.06-.94-.94-2.06-.94 2.06-2.06.94z\"/><path d=\"M17.41 7.96l-1.37-1.37c-.4-.4-.92-.59-1.43-.59-.52 0-1.04.2-1.43.59L10.3 9.45l-7.72 7.72c-.78.78-.78 2.05 0 2.83L4 21.41c.39.39.9.59 1.41.59.51 0 1.02-.2 1.41-.59l7.78-7.78 2.81-2.81c.8-.78.8-2.07 0-2.86zM5.41 20L4 18.59l7.72-7.72 1.47 1.35L5.41 20z\"/>\n",
              "  </svg>\n",
              "      </button>\n",
              "      \n",
              "  <style>\n",
              "    .colab-df-container {\n",
              "      display:flex;\n",
              "      flex-wrap:wrap;\n",
              "      gap: 12px;\n",
              "    }\n",
              "\n",
              "    .colab-df-convert {\n",
              "      background-color: #E8F0FE;\n",
              "      border: none;\n",
              "      border-radius: 50%;\n",
              "      cursor: pointer;\n",
              "      display: none;\n",
              "      fill: #1967D2;\n",
              "      height: 32px;\n",
              "      padding: 0 0 0 0;\n",
              "      width: 32px;\n",
              "    }\n",
              "\n",
              "    .colab-df-convert:hover {\n",
              "      background-color: #E2EBFA;\n",
              "      box-shadow: 0px 1px 2px rgba(60, 64, 67, 0.3), 0px 1px 3px 1px rgba(60, 64, 67, 0.15);\n",
              "      fill: #174EA6;\n",
              "    }\n",
              "\n",
              "    [theme=dark] .colab-df-convert {\n",
              "      background-color: #3B4455;\n",
              "      fill: #D2E3FC;\n",
              "    }\n",
              "\n",
              "    [theme=dark] .colab-df-convert:hover {\n",
              "      background-color: #434B5C;\n",
              "      box-shadow: 0px 1px 3px 1px rgba(0, 0, 0, 0.15);\n",
              "      filter: drop-shadow(0px 1px 2px rgba(0, 0, 0, 0.3));\n",
              "      fill: #FFFFFF;\n",
              "    }\n",
              "  </style>\n",
              "\n",
              "      <script>\n",
              "        const buttonEl =\n",
              "          document.querySelector('#df-59ed4634-4006-4427-917c-d1300aae6ed0 button.colab-df-convert');\n",
              "        buttonEl.style.display =\n",
              "          google.colab.kernel.accessAllowed ? 'block' : 'none';\n",
              "\n",
              "        async function convertToInteractive(key) {\n",
              "          const element = document.querySelector('#df-59ed4634-4006-4427-917c-d1300aae6ed0');\n",
              "          const dataTable =\n",
              "            await google.colab.kernel.invokeFunction('convertToInteractive',\n",
              "                                                     [key], {});\n",
              "          if (!dataTable) return;\n",
              "\n",
              "          const docLinkHtml = 'Like what you see? Visit the ' +\n",
              "            '<a target=\"_blank\" href=https://colab.research.google.com/notebooks/data_table.ipynb>data table notebook</a>'\n",
              "            + ' to learn more about interactive tables.';\n",
              "          element.innerHTML = '';\n",
              "          dataTable['output_type'] = 'display_data';\n",
              "          await google.colab.output.renderOutput(dataTable, element);\n",
              "          const docLink = document.createElement('div');\n",
              "          docLink.innerHTML = docLinkHtml;\n",
              "          element.appendChild(docLink);\n",
              "        }\n",
              "      </script>\n",
              "    </div>\n",
              "  </div>\n",
              "  "
            ],
            "text/plain": [
              "   Celsius  Fahrenheit\n",
              "0      -50       -58.0\n",
              "1      -40       -40.0\n",
              "2      -30       -22.0\n",
              "3      -20        -4.0\n",
              "4      -10        14.0"
            ]
          },
          "metadata": {},
          "execution_count": 34
        }
      ]
    },
    {
      "cell_type": "code",
      "metadata": {
        "id": "rxlu7nd3L5kl",
        "colab": {
          "base_uri": "https://localhost:8080/",
          "height": 363
        },
        "outputId": "ccec1724-407c-489b-8def-0004e170b18b"
      },
      "source": [
        "temperature_df.tail(10)"
      ],
      "execution_count": 35,
      "outputs": [
        {
          "output_type": "execute_result",
          "data": {
            "text/html": [
              "\n",
              "  <div id=\"df-3ab557eb-c6a1-4ff5-8bb0-b50052ab0a87\">\n",
              "    <div class=\"colab-df-container\">\n",
              "      <div>\n",
              "<style scoped>\n",
              "    .dataframe tbody tr th:only-of-type {\n",
              "        vertical-align: middle;\n",
              "    }\n",
              "\n",
              "    .dataframe tbody tr th {\n",
              "        vertical-align: top;\n",
              "    }\n",
              "\n",
              "    .dataframe thead th {\n",
              "        text-align: right;\n",
              "    }\n",
              "</style>\n",
              "<table border=\"1\" class=\"dataframe\">\n",
              "  <thead>\n",
              "    <tr style=\"text-align: right;\">\n",
              "      <th></th>\n",
              "      <th>Celsius</th>\n",
              "      <th>Fahrenheit</th>\n",
              "    </tr>\n",
              "  </thead>\n",
              "  <tbody>\n",
              "    <tr>\n",
              "      <th>20</th>\n",
              "      <td>6</td>\n",
              "      <td>42.8</td>\n",
              "    </tr>\n",
              "    <tr>\n",
              "      <th>21</th>\n",
              "      <td>7</td>\n",
              "      <td>44.6</td>\n",
              "    </tr>\n",
              "    <tr>\n",
              "      <th>22</th>\n",
              "      <td>8</td>\n",
              "      <td>46.4</td>\n",
              "    </tr>\n",
              "    <tr>\n",
              "      <th>23</th>\n",
              "      <td>9</td>\n",
              "      <td>48.2</td>\n",
              "    </tr>\n",
              "    <tr>\n",
              "      <th>24</th>\n",
              "      <td>10</td>\n",
              "      <td>50.0</td>\n",
              "    </tr>\n",
              "    <tr>\n",
              "      <th>25</th>\n",
              "      <td>20</td>\n",
              "      <td>68.0</td>\n",
              "    </tr>\n",
              "    <tr>\n",
              "      <th>26</th>\n",
              "      <td>30</td>\n",
              "      <td>86.0</td>\n",
              "    </tr>\n",
              "    <tr>\n",
              "      <th>27</th>\n",
              "      <td>40</td>\n",
              "      <td>104.0</td>\n",
              "    </tr>\n",
              "    <tr>\n",
              "      <th>28</th>\n",
              "      <td>50</td>\n",
              "      <td>122.0</td>\n",
              "    </tr>\n",
              "    <tr>\n",
              "      <th>29</th>\n",
              "      <td>60</td>\n",
              "      <td>140.0</td>\n",
              "    </tr>\n",
              "  </tbody>\n",
              "</table>\n",
              "</div>\n",
              "      <button class=\"colab-df-convert\" onclick=\"convertToInteractive('df-3ab557eb-c6a1-4ff5-8bb0-b50052ab0a87')\"\n",
              "              title=\"Convert this dataframe to an interactive table.\"\n",
              "              style=\"display:none;\">\n",
              "        \n",
              "  <svg xmlns=\"http://www.w3.org/2000/svg\" height=\"24px\"viewBox=\"0 0 24 24\"\n",
              "       width=\"24px\">\n",
              "    <path d=\"M0 0h24v24H0V0z\" fill=\"none\"/>\n",
              "    <path d=\"M18.56 5.44l.94 2.06.94-2.06 2.06-.94-2.06-.94-.94-2.06-.94 2.06-2.06.94zm-11 1L8.5 8.5l.94-2.06 2.06-.94-2.06-.94L8.5 2.5l-.94 2.06-2.06.94zm10 10l.94 2.06.94-2.06 2.06-.94-2.06-.94-.94-2.06-.94 2.06-2.06.94z\"/><path d=\"M17.41 7.96l-1.37-1.37c-.4-.4-.92-.59-1.43-.59-.52 0-1.04.2-1.43.59L10.3 9.45l-7.72 7.72c-.78.78-.78 2.05 0 2.83L4 21.41c.39.39.9.59 1.41.59.51 0 1.02-.2 1.41-.59l7.78-7.78 2.81-2.81c.8-.78.8-2.07 0-2.86zM5.41 20L4 18.59l7.72-7.72 1.47 1.35L5.41 20z\"/>\n",
              "  </svg>\n",
              "      </button>\n",
              "      \n",
              "  <style>\n",
              "    .colab-df-container {\n",
              "      display:flex;\n",
              "      flex-wrap:wrap;\n",
              "      gap: 12px;\n",
              "    }\n",
              "\n",
              "    .colab-df-convert {\n",
              "      background-color: #E8F0FE;\n",
              "      border: none;\n",
              "      border-radius: 50%;\n",
              "      cursor: pointer;\n",
              "      display: none;\n",
              "      fill: #1967D2;\n",
              "      height: 32px;\n",
              "      padding: 0 0 0 0;\n",
              "      width: 32px;\n",
              "    }\n",
              "\n",
              "    .colab-df-convert:hover {\n",
              "      background-color: #E2EBFA;\n",
              "      box-shadow: 0px 1px 2px rgba(60, 64, 67, 0.3), 0px 1px 3px 1px rgba(60, 64, 67, 0.15);\n",
              "      fill: #174EA6;\n",
              "    }\n",
              "\n",
              "    [theme=dark] .colab-df-convert {\n",
              "      background-color: #3B4455;\n",
              "      fill: #D2E3FC;\n",
              "    }\n",
              "\n",
              "    [theme=dark] .colab-df-convert:hover {\n",
              "      background-color: #434B5C;\n",
              "      box-shadow: 0px 1px 3px 1px rgba(0, 0, 0, 0.15);\n",
              "      filter: drop-shadow(0px 1px 2px rgba(0, 0, 0, 0.3));\n",
              "      fill: #FFFFFF;\n",
              "    }\n",
              "  </style>\n",
              "\n",
              "      <script>\n",
              "        const buttonEl =\n",
              "          document.querySelector('#df-3ab557eb-c6a1-4ff5-8bb0-b50052ab0a87 button.colab-df-convert');\n",
              "        buttonEl.style.display =\n",
              "          google.colab.kernel.accessAllowed ? 'block' : 'none';\n",
              "\n",
              "        async function convertToInteractive(key) {\n",
              "          const element = document.querySelector('#df-3ab557eb-c6a1-4ff5-8bb0-b50052ab0a87');\n",
              "          const dataTable =\n",
              "            await google.colab.kernel.invokeFunction('convertToInteractive',\n",
              "                                                     [key], {});\n",
              "          if (!dataTable) return;\n",
              "\n",
              "          const docLinkHtml = 'Like what you see? Visit the ' +\n",
              "            '<a target=\"_blank\" href=https://colab.research.google.com/notebooks/data_table.ipynb>data table notebook</a>'\n",
              "            + ' to learn more about interactive tables.';\n",
              "          element.innerHTML = '';\n",
              "          dataTable['output_type'] = 'display_data';\n",
              "          await google.colab.output.renderOutput(dataTable, element);\n",
              "          const docLink = document.createElement('div');\n",
              "          docLink.innerHTML = docLinkHtml;\n",
              "          element.appendChild(docLink);\n",
              "        }\n",
              "      </script>\n",
              "    </div>\n",
              "  </div>\n",
              "  "
            ],
            "text/plain": [
              "    Celsius  Fahrenheit\n",
              "20        6        42.8\n",
              "21        7        44.6\n",
              "22        8        46.4\n",
              "23        9        48.2\n",
              "24       10        50.0\n",
              "25       20        68.0\n",
              "26       30        86.0\n",
              "27       40       104.0\n",
              "28       50       122.0\n",
              "29       60       140.0"
            ]
          },
          "metadata": {},
          "execution_count": 35
        }
      ]
    },
    {
      "cell_type": "code",
      "metadata": {
        "id": "Ycrr6QZkL-Cp",
        "colab": {
          "base_uri": "https://localhost:8080/"
        },
        "outputId": "03f3d3f3-e881-4eaf-a016-13bfb21d27fe"
      },
      "source": [
        "temperature_df.info()"
      ],
      "execution_count": 36,
      "outputs": [
        {
          "output_type": "stream",
          "name": "stdout",
          "text": [
            "<class 'pandas.core.frame.DataFrame'>\n",
            "RangeIndex: 30 entries, 0 to 29\n",
            "Data columns (total 2 columns):\n",
            " #   Column      Non-Null Count  Dtype  \n",
            "---  ------      --------------  -----  \n",
            " 0   Celsius     30 non-null     int64  \n",
            " 1   Fahrenheit  30 non-null     float64\n",
            "dtypes: float64(1), int64(1)\n",
            "memory usage: 608.0 bytes\n"
          ]
        }
      ]
    },
    {
      "cell_type": "code",
      "metadata": {
        "id": "fXFzlJv4MKIu",
        "colab": {
          "base_uri": "https://localhost:8080/",
          "height": 300
        },
        "outputId": "98088889-db63-48b7-a329-8ae7ce52cd7e"
      },
      "source": [
        "temperature_df.describe()"
      ],
      "execution_count": 37,
      "outputs": [
        {
          "output_type": "execute_result",
          "data": {
            "text/html": [
              "\n",
              "  <div id=\"df-1cd3c13f-78b1-42a2-a3c9-9bd333c3213a\">\n",
              "    <div class=\"colab-df-container\">\n",
              "      <div>\n",
              "<style scoped>\n",
              "    .dataframe tbody tr th:only-of-type {\n",
              "        vertical-align: middle;\n",
              "    }\n",
              "\n",
              "    .dataframe tbody tr th {\n",
              "        vertical-align: top;\n",
              "    }\n",
              "\n",
              "    .dataframe thead th {\n",
              "        text-align: right;\n",
              "    }\n",
              "</style>\n",
              "<table border=\"1\" class=\"dataframe\">\n",
              "  <thead>\n",
              "    <tr style=\"text-align: right;\">\n",
              "      <th></th>\n",
              "      <th>Celsius</th>\n",
              "      <th>Fahrenheit</th>\n",
              "    </tr>\n",
              "  </thead>\n",
              "  <tbody>\n",
              "    <tr>\n",
              "      <th>count</th>\n",
              "      <td>30.000000</td>\n",
              "      <td>30.000000</td>\n",
              "    </tr>\n",
              "    <tr>\n",
              "      <th>mean</th>\n",
              "      <td>2.000000</td>\n",
              "      <td>35.600000</td>\n",
              "    </tr>\n",
              "    <tr>\n",
              "      <th>std</th>\n",
              "      <td>22.780815</td>\n",
              "      <td>41.005466</td>\n",
              "    </tr>\n",
              "    <tr>\n",
              "      <th>min</th>\n",
              "      <td>-50.000000</td>\n",
              "      <td>-58.000000</td>\n",
              "    </tr>\n",
              "    <tr>\n",
              "      <th>25%</th>\n",
              "      <td>-6.750000</td>\n",
              "      <td>19.850000</td>\n",
              "    </tr>\n",
              "    <tr>\n",
              "      <th>50%</th>\n",
              "      <td>0.500000</td>\n",
              "      <td>32.900000</td>\n",
              "    </tr>\n",
              "    <tr>\n",
              "      <th>75%</th>\n",
              "      <td>7.750000</td>\n",
              "      <td>45.950000</td>\n",
              "    </tr>\n",
              "    <tr>\n",
              "      <th>max</th>\n",
              "      <td>60.000000</td>\n",
              "      <td>140.000000</td>\n",
              "    </tr>\n",
              "  </tbody>\n",
              "</table>\n",
              "</div>\n",
              "      <button class=\"colab-df-convert\" onclick=\"convertToInteractive('df-1cd3c13f-78b1-42a2-a3c9-9bd333c3213a')\"\n",
              "              title=\"Convert this dataframe to an interactive table.\"\n",
              "              style=\"display:none;\">\n",
              "        \n",
              "  <svg xmlns=\"http://www.w3.org/2000/svg\" height=\"24px\"viewBox=\"0 0 24 24\"\n",
              "       width=\"24px\">\n",
              "    <path d=\"M0 0h24v24H0V0z\" fill=\"none\"/>\n",
              "    <path d=\"M18.56 5.44l.94 2.06.94-2.06 2.06-.94-2.06-.94-.94-2.06-.94 2.06-2.06.94zm-11 1L8.5 8.5l.94-2.06 2.06-.94-2.06-.94L8.5 2.5l-.94 2.06-2.06.94zm10 10l.94 2.06.94-2.06 2.06-.94-2.06-.94-.94-2.06-.94 2.06-2.06.94z\"/><path d=\"M17.41 7.96l-1.37-1.37c-.4-.4-.92-.59-1.43-.59-.52 0-1.04.2-1.43.59L10.3 9.45l-7.72 7.72c-.78.78-.78 2.05 0 2.83L4 21.41c.39.39.9.59 1.41.59.51 0 1.02-.2 1.41-.59l7.78-7.78 2.81-2.81c.8-.78.8-2.07 0-2.86zM5.41 20L4 18.59l7.72-7.72 1.47 1.35L5.41 20z\"/>\n",
              "  </svg>\n",
              "      </button>\n",
              "      \n",
              "  <style>\n",
              "    .colab-df-container {\n",
              "      display:flex;\n",
              "      flex-wrap:wrap;\n",
              "      gap: 12px;\n",
              "    }\n",
              "\n",
              "    .colab-df-convert {\n",
              "      background-color: #E8F0FE;\n",
              "      border: none;\n",
              "      border-radius: 50%;\n",
              "      cursor: pointer;\n",
              "      display: none;\n",
              "      fill: #1967D2;\n",
              "      height: 32px;\n",
              "      padding: 0 0 0 0;\n",
              "      width: 32px;\n",
              "    }\n",
              "\n",
              "    .colab-df-convert:hover {\n",
              "      background-color: #E2EBFA;\n",
              "      box-shadow: 0px 1px 2px rgba(60, 64, 67, 0.3), 0px 1px 3px 1px rgba(60, 64, 67, 0.15);\n",
              "      fill: #174EA6;\n",
              "    }\n",
              "\n",
              "    [theme=dark] .colab-df-convert {\n",
              "      background-color: #3B4455;\n",
              "      fill: #D2E3FC;\n",
              "    }\n",
              "\n",
              "    [theme=dark] .colab-df-convert:hover {\n",
              "      background-color: #434B5C;\n",
              "      box-shadow: 0px 1px 3px 1px rgba(0, 0, 0, 0.15);\n",
              "      filter: drop-shadow(0px 1px 2px rgba(0, 0, 0, 0.3));\n",
              "      fill: #FFFFFF;\n",
              "    }\n",
              "  </style>\n",
              "\n",
              "      <script>\n",
              "        const buttonEl =\n",
              "          document.querySelector('#df-1cd3c13f-78b1-42a2-a3c9-9bd333c3213a button.colab-df-convert');\n",
              "        buttonEl.style.display =\n",
              "          google.colab.kernel.accessAllowed ? 'block' : 'none';\n",
              "\n",
              "        async function convertToInteractive(key) {\n",
              "          const element = document.querySelector('#df-1cd3c13f-78b1-42a2-a3c9-9bd333c3213a');\n",
              "          const dataTable =\n",
              "            await google.colab.kernel.invokeFunction('convertToInteractive',\n",
              "                                                     [key], {});\n",
              "          if (!dataTable) return;\n",
              "\n",
              "          const docLinkHtml = 'Like what you see? Visit the ' +\n",
              "            '<a target=\"_blank\" href=https://colab.research.google.com/notebooks/data_table.ipynb>data table notebook</a>'\n",
              "            + ' to learn more about interactive tables.';\n",
              "          element.innerHTML = '';\n",
              "          dataTable['output_type'] = 'display_data';\n",
              "          await google.colab.output.renderOutput(dataTable, element);\n",
              "          const docLink = document.createElement('div');\n",
              "          docLink.innerHTML = docLinkHtml;\n",
              "          element.appendChild(docLink);\n",
              "        }\n",
              "      </script>\n",
              "    </div>\n",
              "  </div>\n",
              "  "
            ],
            "text/plain": [
              "         Celsius  Fahrenheit\n",
              "count  30.000000   30.000000\n",
              "mean    2.000000   35.600000\n",
              "std    22.780815   41.005466\n",
              "min   -50.000000  -58.000000\n",
              "25%    -6.750000   19.850000\n",
              "50%     0.500000   32.900000\n",
              "75%     7.750000   45.950000\n",
              "max    60.000000  140.000000"
            ]
          },
          "metadata": {},
          "execution_count": 37
        }
      ]
    },
    {
      "cell_type": "markdown",
      "metadata": {
        "id": "LlszUhNNyrl_"
      },
      "source": [
        "# Passo 3: Visualização da base de dados"
      ]
    },
    {
      "cell_type": "code",
      "metadata": {
        "id": "z0AE5NIoMWLa",
        "colab": {
          "base_uri": "https://localhost:8080/",
          "height": 296
        },
        "outputId": "dfef03a5-8ed6-4534-ce74-09bb75bbdf7f"
      },
      "source": [
        "#sns.scatterplot(temperature_df['Celsius'], temperature_df['Fahrenheit']); atualizado 18/01/2021\n",
        "sns.scatterplot(x=temperature_df['Celsius'], y=temperature_df['Fahrenheit'])"
      ],
      "execution_count": 38,
      "outputs": [
        {
          "output_type": "execute_result",
          "data": {
            "text/plain": [
              "<matplotlib.axes._subplots.AxesSubplot at 0x7fe52037f410>"
            ]
          },
          "metadata": {},
          "execution_count": 38
        },
        {
          "output_type": "display_data",
          "data": {
            "image/png": "[encoded data removed]",
            "text/plain": [
              "<Figure size 432x288 with 1 Axes>"
            ]
          },
          "metadata": {
            "needs_background": "light"
          }
        }
      ]
    },
    {
      "cell_type": "markdown",
      "metadata": {
        "id": "Y0GmpAjG3GiH"
      },
      "source": [
        "# Passo 4: Configuração da base de dados de treinamento"
      ]
    },
    {
      "cell_type": "code",
      "metadata": {
        "id": "ufp47UtcNV9r"
      },
      "source": [
        "X_train = temperature_df['Celsius']\n",
        "y_train = temperature_df['Fahrenheit']"
      ],
      "execution_count": 39,
      "outputs": []
    },
    {
      "cell_type": "code",
      "metadata": {
        "id": "DxYIMLN9Nh5Z",
        "colab": {
          "base_uri": "https://localhost:8080/"
        },
        "outputId": "f003ebdf-fa7a-47af-c6f0-a541362bfd1f"
      },
      "source": [
        "X_train.shape"
      ],
      "execution_count": 40,
      "outputs": [
        {
          "output_type": "execute_result",
          "data": {
            "text/plain": [
              "(30,)"
            ]
          },
          "metadata": {},
          "execution_count": 40
        }
      ]
    },
    {
      "cell_type": "code",
      "metadata": {
        "id": "jaIbWH1bNj8B",
        "colab": {
          "base_uri": "https://localhost:8080/"
        },
        "outputId": "2c5218a0-c7b3-456a-afed-463fc0b04412"
      },
      "source": [
        "y_train.shape"
      ],
      "execution_count": 41,
      "outputs": [
        {
          "output_type": "execute_result",
          "data": {
            "text/plain": [
              "(30,)"
            ]
          },
          "metadata": {},
          "execution_count": 41
        }
      ]
    },
    {
      "cell_type": "markdown",
      "metadata": {
        "id": "53qDZFRn3-S1"
      },
      "source": [
        "# Passo 5: Construção e treinamento do modelo"
      ]
    },
    {
      "cell_type": "code",
      "metadata": {
        "id": "oHHV_XUkNu1z",
        "colab": {
          "base_uri": "https://localhost:8080/"
        },
        "outputId": "8ac46e79-8f8d-4fdb-f9a6-fc6d72b881be"
      },
      "source": [
        "model = tf.keras.Sequential()\n",
        "model.add(tf.keras.layers.Dense(units = 1, input_shape = [1]))\n",
        "model.summary()"
      ],
      "execution_count": 42,
      "outputs": [
        {
          "output_type": "stream",
          "name": "stdout",
          "text": [
            "Model: \"sequential_1\"\n",
            "_________________________________________________________________\n",
            " Layer (type)                Output Shape              Param #   \n",
            "=================================================================\n",
            " dense_1 (Dense)             (None, 1)                 2         \n",
            "                                                                 \n",
            "=================================================================\n",
            "Total params: 2\n",
            "Trainable params: 2\n",
            "Non-trainable params: 0\n",
            "_________________________________________________________________\n"
          ]
        }
      ]
    },
    {
      "cell_type": "code",
      "metadata": {
        "id": "fzSMyRkQOk41"
      },
      "source": [
        "model.compile(optimizer=tf.keras.optimizers.Adam(0.05), loss = 'mean_squared_error')"
      ],
      "execution_count": 67,
      "outputs": []
    },
    {
      "cell_type": "code",
      "metadata": {
        "id": "-XkNnXLwO7As",
        "colab": {
          "base_uri": "https://localhost:8080/"
        },
        "outputId": "1be6e0a0-7f76-4bd5-c62c-2cd7c16cd1aa"
      },
      "source": [
        "epochs_hist = model.fit(X_train, y_train, epochs = 200)"
      ],
      "execution_count": 74,
      "outputs": [
        {
          "output_type": "stream",
          "name": "stdout",
          "text": [
            "Epoch 1/200\n",
            "1/1 [==============================] - 0s 10ms/step - loss: 3.7579e-05\n",
            "Epoch 2/200\n",
            "1/1 [==============================] - 0s 12ms/step - loss: 1.3435e-05\n",
            "Epoch 3/200\n",
            "1/1 [==============================] - 0s 8ms/step - loss: 1.6368e-07\n",
            "Epoch 4/200\n",
            "1/1 [==============================] - 0s 8ms/step - loss: 1.5047e-05\n",
            "Epoch 5/200\n",
            "1/1 [==============================] - 0s 21ms/step - loss: 2.5622e-05\n",
            "Epoch 6/200\n",
            "1/1 [==============================] - 0s 19ms/step - loss: 1.2620e-05\n",
            "Epoch 7/200\n",
            "1/1 [==============================] - 0s 10ms/step - loss: 1.3949e-07\n",
            "Epoch 8/200\n",
            "1/1 [==============================] - 0s 9ms/step - loss: 7.2661e-06\n",
            "Epoch 9/200\n",
            "1/1 [==============================] - 0s 11ms/step - loss: 1.6637e-05\n",
            "Epoch 10/200\n",
            "1/1 [==============================] - 0s 13ms/step - loss: 1.0314e-05\n",
            "Epoch 11/200\n",
            "1/1 [==============================] - 0s 20ms/step - loss: 5.6669e-07\n",
            "Epoch 12/200\n",
            "1/1 [==============================] - 0s 10ms/step - loss: 3.4821e-06\n",
            "Epoch 13/200\n",
            "1/1 [==============================] - 0s 10ms/step - loss: 1.0549e-05\n",
            "Epoch 14/200\n",
            "1/1 [==============================] - 0s 13ms/step - loss: 7.7444e-06\n",
            "Epoch 15/200\n",
            "1/1 [==============================] - 0s 21ms/step - loss: 7.7598e-07\n",
            "Epoch 16/200\n",
            "1/1 [==============================] - 0s 20ms/step - loss: 1.7144e-06\n",
            "Epoch 17/200\n",
            "1/1 [==============================] - 0s 14ms/step - loss: 6.6929e-06\n",
            "Epoch 18/200\n",
            "1/1 [==============================] - 0s 14ms/step - loss: 5.4998e-06\n",
            "Epoch 19/200\n",
            "1/1 [==============================] - 0s 21ms/step - loss: 7.3666e-07\n",
            "Epoch 20/200\n",
            "1/1 [==============================] - 0s 6ms/step - loss: 9.0547e-07\n",
            "Epoch 21/200\n",
            "1/1 [==============================] - 0s 7ms/step - loss: 4.2799e-06\n",
            "Epoch 22/200\n",
            "1/1 [==============================] - 0s 12ms/step - loss: 3.7706e-06\n",
            "Epoch 23/200\n",
            "1/1 [==============================] - 0s 14ms/step - loss: 5.7729e-07\n",
            "Epoch 24/200\n",
            "1/1 [==============================] - 0s 13ms/step - loss: 5.3500e-07\n",
            "Epoch 25/200\n",
            "1/1 [==============================] - 0s 9ms/step - loss: 2.7969e-06\n",
            "Epoch 26/200\n",
            "1/1 [==============================] - 0s 9ms/step - loss: 2.5228e-06\n",
            "Epoch 27/200\n",
            "1/1 [==============================] - 0s 8ms/step - loss: 3.8575e-07\n",
            "Epoch 28/200\n",
            "1/1 [==============================] - 0s 9ms/step - loss: 3.6221e-07\n",
            "Epoch 29/200\n",
            "1/1 [==============================] - 0s 15ms/step - loss: 1.8671e-06\n",
            "Epoch 30/200\n",
            "1/1 [==============================] - 0s 12ms/step - loss: 1.6457e-06\n",
            "Epoch 31/200\n",
            "1/1 [==============================] - 0s 8ms/step - loss: 2.2516e-07\n",
            "Epoch 32/200\n",
            "1/1 [==============================] - 0s 10ms/step - loss: 2.7714e-07\n",
            "Epoch 33/200\n",
            "1/1 [==============================] - 0s 16ms/step - loss: 1.2764e-06\n",
            "Epoch 34/200\n",
            "1/1 [==============================] - 0s 7ms/step - loss: 1.0455e-06\n",
            "Epoch 35/200\n",
            "1/1 [==============================] - 0s 10ms/step - loss: 1.1080e-07\n",
            "Epoch 36/200\n",
            "1/1 [==============================] - 0s 7ms/step - loss: 2.3380e-07\n",
            "Epoch 37/200\n",
            "1/1 [==============================] - 0s 7ms/step - loss: 8.8189e-07\n",
            "Epoch 38/200\n",
            "1/1 [==============================] - 0s 7ms/step - loss: 6.3972e-07\n",
            "Epoch 39/200\n",
            "1/1 [==============================] - 0s 8ms/step - loss: 4.1156e-08\n",
            "Epoch 40/200\n",
            "1/1 [==============================] - 0s 7ms/step - loss: 2.0578e-07\n",
            "Epoch 41/200\n",
            "1/1 [==============================] - 0s 13ms/step - loss: 6.0806e-07\n",
            "Epoch 42/200\n",
            "1/1 [==============================] - 0s 12ms/step - loss: 3.7297e-07\n",
            "Epoch 43/200\n",
            "1/1 [==============================] - 0s 11ms/step - loss: 8.6171e-09\n",
            "Epoch 44/200\n",
            "1/1 [==============================] - 0s 10ms/step - loss: 1.8534e-07\n",
            "Epoch 45/200\n",
            "1/1 [==============================] - 0s 7ms/step - loss: 4.1603e-07\n",
            "Epoch 46/200\n",
            "1/1 [==============================] - 0s 11ms/step - loss: 2.0018e-07\n",
            "Epoch 47/200\n",
            "1/1 [==============================] - 0s 8ms/step - loss: 2.2222e-11\n",
            "Epoch 48/200\n",
            "1/1 [==============================] - 0s 8ms/step - loss: 1.6464e-07\n",
            "Epoch 49/200\n",
            "1/1 [==============================] - 0s 15ms/step - loss: 2.7403e-07\n",
            "Epoch 50/200\n",
            "1/1 [==============================] - 0s 20ms/step - loss: 9.5625e-08\n",
            "Epoch 51/200\n",
            "1/1 [==============================] - 0s 7ms/step - loss: 5.9896e-09\n",
            "Epoch 52/200\n",
            "1/1 [==============================] - 0s 10ms/step - loss: 1.4213e-07\n",
            "Epoch 53/200\n",
            "1/1 [==============================] - 0s 8ms/step - loss: 1.7127e-07\n",
            "Epoch 54/200\n",
            "1/1 [==============================] - 0s 23ms/step - loss: 3.6161e-08\n",
            "Epoch 55/200\n",
            "1/1 [==============================] - 0s 15ms/step - loss: 1.7399e-08\n",
            "Epoch 56/200\n",
            "1/1 [==============================] - 0s 20ms/step - loss: 1.1415e-07\n",
            "Epoch 57/200\n",
            "1/1 [==============================] - 0s 22ms/step - loss: 9.9499e-08\n",
            "Epoch 58/200\n",
            "1/1 [==============================] - 0s 9ms/step - loss: 8.6532e-09\n",
            "Epoch 59/200\n",
            "1/1 [==============================] - 0s 15ms/step - loss: 2.7167e-08\n",
            "Epoch 60/200\n",
            "1/1 [==============================] - 0s 6ms/step - loss: 8.6275e-08\n",
            "Epoch 61/200\n",
            "1/1 [==============================] - 0s 5ms/step - loss: 5.0458e-08\n",
            "Epoch 62/200\n",
            "1/1 [==============================] - 0s 8ms/step - loss: 3.1508e-10\n",
            "Epoch 63/200\n",
            "1/1 [==============================] - 0s 10ms/step - loss: 3.3009e-08\n",
            "Epoch 64/200\n",
            "1/1 [==============================] - 0s 7ms/step - loss: 5.9830e-08\n",
            "Epoch 65/200\n",
            "1/1 [==============================] - 0s 11ms/step - loss: 2.0161e-08\n",
            "Epoch 66/200\n",
            "1/1 [==============================] - 0s 8ms/step - loss: 1.7010e-09\n",
            "Epoch 67/200\n",
            "1/1 [==============================] - 0s 7ms/step - loss: 3.2892e-08\n",
            "Epoch 68/200\n",
            "1/1 [==============================] - 0s 13ms/step - loss: 3.6194e-08\n",
            "Epoch 69/200\n",
            "1/1 [==============================] - 0s 8ms/step - loss: 5.1239e-09\n",
            "Epoch 70/200\n",
            "1/1 [==============================] - 0s 9ms/step - loss: 6.8860e-09\n",
            "Epoch 71/200\n",
            "1/1 [==============================] - 0s 13ms/step - loss: 2.7622e-08\n",
            "Epoch 72/200\n",
            "1/1 [==============================] - 0s 6ms/step - loss: 1.7399e-08\n",
            "Epoch 73/200\n",
            "1/1 [==============================] - 0s 11ms/step - loss: 1.6750e-10\n",
            "Epoch 74/200\n",
            "1/1 [==============================] - 0s 15ms/step - loss: 1.0538e-08\n",
            "Epoch 75/200\n",
            "1/1 [==============================] - 0s 12ms/step - loss: 1.8930e-08\n",
            "Epoch 76/200\n",
            "1/1 [==============================] - 0s 7ms/step - loss: 6.2335e-09\n",
            "Epoch 77/200\n",
            "1/1 [==============================] - 0s 12ms/step - loss: 8.3082e-10\n",
            "Epoch 78/200\n",
            "1/1 [==============================] - 0s 8ms/step - loss: 1.1593e-08\n",
            "Epoch 79/200\n",
            "1/1 [==============================] - 0s 15ms/step - loss: 1.0443e-08\n",
            "Epoch 80/200\n",
            "1/1 [==============================] - 0s 8ms/step - loss: 1.0191e-09\n",
            "Epoch 81/200\n",
            "1/1 [==============================] - 0s 13ms/step - loss: 3.1044e-09\n",
            "Epoch 82/200\n",
            "1/1 [==============================] - 0s 6ms/step - loss: 9.1653e-09\n",
            "Epoch 83/200\n",
            "1/1 [==============================] - 0s 12ms/step - loss: 4.4226e-09\n",
            "Epoch 84/200\n",
            "1/1 [==============================] - 0s 11ms/step - loss: 5.0841e-11\n",
            "Epoch 85/200\n",
            "1/1 [==============================] - 0s 11ms/step - loss: 4.4230e-09\n",
            "Epoch 86/200\n",
            "1/1 [==============================] - 0s 13ms/step - loss: 5.5703e-09\n",
            "Epoch 87/200\n",
            "1/1 [==============================] - 0s 8ms/step - loss: 1.0451e-09\n",
            "Epoch 88/200\n",
            "1/1 [==============================] - 0s 15ms/step - loss: 1.0165e-09\n",
            "Epoch 89/200\n",
            "1/1 [==============================] - 0s 7ms/step - loss: 4.3609e-09\n",
            "Epoch 90/200\n",
            "1/1 [==============================] - 0s 17ms/step - loss: 2.5060e-09\n",
            "Epoch 91/200\n",
            "1/1 [==============================] - 0s 8ms/step - loss: 6.3665e-13\n",
            "Epoch 92/200\n",
            "1/1 [==============================] - 0s 6ms/step - loss: 1.8646e-09\n",
            "Epoch 93/200\n",
            "1/1 [==============================] - 0s 11ms/step - loss: 2.6549e-09\n",
            "Epoch 94/200\n",
            "1/1 [==============================] - 0s 8ms/step - loss: 6.5268e-10\n",
            "Epoch 95/200\n",
            "1/1 [==============================] - 0s 12ms/step - loss: 2.9374e-10\n",
            "Epoch 96/200\n",
            "1/1 [==============================] - 0s 9ms/step - loss: 1.9626e-09\n",
            "Epoch 97/200\n",
            "1/1 [==============================] - 0s 10ms/step - loss: 1.1944e-09\n",
            "Epoch 98/200\n",
            "1/1 [==============================] - 0s 9ms/step - loss: 1.0217e-11\n",
            "Epoch 99/200\n",
            "1/1 [==============================] - 0s 8ms/step - loss: 6.5268e-10\n",
            "Epoch 100/200\n",
            "1/1 [==============================] - 0s 10ms/step - loss: 1.1776e-09\n",
            "Epoch 101/200\n",
            "1/1 [==============================] - 0s 11ms/step - loss: 2.9386e-10\n",
            "Epoch 102/200\n",
            "1/1 [==============================] - 0s 10ms/step - loss: 1.0201e-10\n",
            "Epoch 103/200\n",
            "1/1 [==============================] - 0s 16ms/step - loss: 7.5273e-10\n",
            "Epoch 104/200\n",
            "1/1 [==============================] - 0s 24ms/step - loss: 5.1711e-10\n",
            "Epoch 105/200\n",
            "1/1 [==============================] - 0s 18ms/step - loss: 1.0217e-11\n",
            "Epoch 106/200\n",
            "1/1 [==============================] - 0s 16ms/step - loss: 2.0388e-10\n",
            "Epoch 107/200\n",
            "1/1 [==============================] - 0s 19ms/step - loss: 5.1771e-10\n",
            "Epoch 108/200\n",
            "1/1 [==============================] - 0s 13ms/step - loss: 1.6677e-10\n",
            "Epoch 109/200\n",
            "1/1 [==============================] - 0s 14ms/step - loss: 5.0356e-11\n",
            "Epoch 110/200\n",
            "1/1 [==============================] - 0s 6ms/step - loss: 2.9495e-10\n",
            "Epoch 111/200\n",
            "1/1 [==============================] - 0s 9ms/step - loss: 1.7259e-10\n",
            "Epoch 112/200\n",
            "1/1 [==============================] - 0s 13ms/step - loss: 1.0217e-11\n",
            "Epoch 113/200\n",
            "1/1 [==============================] - 0s 12ms/step - loss: 1.0262e-10\n",
            "Epoch 114/200\n",
            "1/1 [==============================] - 0s 9ms/step - loss: 1.6677e-10\n",
            "Epoch 115/200\n",
            "1/1 [==============================] - 0s 10ms/step - loss: 5.0841e-11\n",
            "Epoch 116/200\n",
            "1/1 [==============================] - 0s 10ms/step - loss: 1.0217e-11\n",
            "Epoch 117/200\n",
            "1/1 [==============================] - 0s 17ms/step - loss: 1.3900e-10\n",
            "Epoch 118/200\n",
            "1/1 [==============================] - 0s 9ms/step - loss: 1.0201e-10\n",
            "Epoch 119/200\n",
            "1/1 [==============================] - 0s 6ms/step - loss: 6.3665e-13\n",
            "Epoch 120/200\n",
            "1/1 [==============================] - 0s 10ms/step - loss: 5.0841e-11\n",
            "Epoch 121/200\n",
            "1/1 [==============================] - 0s 9ms/step - loss: 1.0262e-10\n",
            "Epoch 122/200\n",
            "1/1 [==============================] - 0s 9ms/step - loss: 2.1494e-11\n",
            "Epoch 123/200\n",
            "1/1 [==============================] - 0s 12ms/step - loss: 1.0217e-11\n",
            "Epoch 124/200\n",
            "1/1 [==============================] - 0s 15ms/step - loss: 1.0201e-10\n",
            "Epoch 125/200\n",
            "1/1 [==============================] - 0s 20ms/step - loss: 5.0356e-11\n",
            "Epoch 126/200\n",
            "1/1 [==============================] - 0s 14ms/step - loss: 6.3665e-13\n",
            "Epoch 127/200\n",
            "1/1 [==============================] - 0s 14ms/step - loss: 1.0262e-10\n",
            "Epoch 128/200\n",
            "1/1 [==============================] - 0s 11ms/step - loss: 5.0841e-11\n",
            "Epoch 129/200\n",
            "1/1 [==============================] - 0s 15ms/step - loss: 6.3665e-13\n",
            "Epoch 130/200\n",
            "1/1 [==============================] - 0s 11ms/step - loss: 5.0356e-11\n",
            "Epoch 131/200\n",
            "1/1 [==============================] - 0s 10ms/step - loss: 5.0356e-11\n",
            "Epoch 132/200\n",
            "1/1 [==============================] - 0s 16ms/step - loss: 6.3665e-13\n",
            "Epoch 133/200\n",
            "1/1 [==============================] - 0s 9ms/step - loss: 2.1494e-11\n",
            "Epoch 134/200\n",
            "1/1 [==============================] - 0s 13ms/step - loss: 2.1494e-11\n",
            "Epoch 135/200\n",
            "1/1 [==============================] - 0s 14ms/step - loss: 6.3665e-13\n",
            "Epoch 136/200\n",
            "1/1 [==============================] - 0s 11ms/step - loss: 6.3665e-13\n",
            "Epoch 137/200\n",
            "1/1 [==============================] - 0s 11ms/step - loss: 1.0217e-11\n",
            "Epoch 138/200\n",
            "1/1 [==============================] - 0s 12ms/step - loss: 1.0217e-11\n",
            "Epoch 139/200\n",
            "1/1 [==============================] - 0s 15ms/step - loss: 6.3665e-13\n",
            "Epoch 140/200\n",
            "1/1 [==============================] - 0s 13ms/step - loss: 6.3665e-13\n",
            "Epoch 141/200\n",
            "1/1 [==============================] - 0s 16ms/step - loss: 2.1494e-11\n",
            "Epoch 142/200\n",
            "1/1 [==============================] - 0s 9ms/step - loss: 6.3665e-13\n",
            "Epoch 143/200\n",
            "1/1 [==============================] - 0s 10ms/step - loss: 6.3665e-13\n",
            "Epoch 144/200\n",
            "1/1 [==============================] - 0s 12ms/step - loss: 1.0217e-11\n",
            "Epoch 145/200\n",
            "1/1 [==============================] - 0s 5ms/step - loss: 1.0217e-11\n",
            "Epoch 146/200\n",
            "1/1 [==============================] - 0s 6ms/step - loss: 6.3665e-13\n",
            "Epoch 147/200\n",
            "1/1 [==============================] - 0s 12ms/step - loss: 6.3665e-13\n",
            "Epoch 148/200\n",
            "1/1 [==============================] - 0s 18ms/step - loss: 2.1494e-11\n",
            "Epoch 149/200\n",
            "1/1 [==============================] - 0s 16ms/step - loss: 6.3665e-13\n",
            "Epoch 150/200\n",
            "1/1 [==============================] - 0s 8ms/step - loss: 6.3665e-13\n",
            "Epoch 151/200\n",
            "1/1 [==============================] - 0s 9ms/step - loss: 1.0217e-11\n",
            "Epoch 152/200\n",
            "1/1 [==============================] - 0s 13ms/step - loss: 1.0217e-11\n",
            "Epoch 153/200\n",
            "1/1 [==============================] - 0s 6ms/step - loss: 6.3665e-13\n",
            "Epoch 154/200\n",
            "1/1 [==============================] - 0s 6ms/step - loss: 6.3665e-13\n",
            "Epoch 155/200\n",
            "1/1 [==============================] - 0s 9ms/step - loss: 2.1494e-11\n",
            "Epoch 156/200\n",
            "1/1 [==============================] - 0s 25ms/step - loss: 6.3665e-13\n",
            "Epoch 157/200\n",
            "1/1 [==============================] - 0s 17ms/step - loss: 6.3665e-13\n",
            "Epoch 158/200\n",
            "1/1 [==============================] - 0s 9ms/step - loss: 1.0217e-11\n",
            "Epoch 159/200\n",
            "1/1 [==============================] - 0s 12ms/step - loss: 1.0217e-11\n",
            "Epoch 160/200\n",
            "1/1 [==============================] - 0s 11ms/step - loss: 6.3665e-13\n",
            "Epoch 161/200\n",
            "1/1 [==============================] - 0s 7ms/step - loss: 6.3665e-13\n",
            "Epoch 162/200\n",
            "1/1 [==============================] - 0s 17ms/step - loss: 2.1494e-11\n",
            "Epoch 163/200\n",
            "1/1 [==============================] - 0s 9ms/step - loss: 6.3665e-13\n",
            "Epoch 164/200\n",
            "1/1 [==============================] - 0s 13ms/step - loss: 6.3665e-13\n",
            "Epoch 165/200\n",
            "1/1 [==============================] - 0s 14ms/step - loss: 1.0217e-11\n",
            "Epoch 166/200\n",
            "1/1 [==============================] - 0s 10ms/step - loss: 1.0217e-11\n",
            "Epoch 167/200\n",
            "1/1 [==============================] - 0s 8ms/step - loss: 6.3665e-13\n",
            "Epoch 168/200\n",
            "1/1 [==============================] - 0s 20ms/step - loss: 6.3665e-13\n",
            "Epoch 169/200\n",
            "1/1 [==============================] - 0s 8ms/step - loss: 2.1494e-11\n",
            "Epoch 170/200\n",
            "1/1 [==============================] - 0s 7ms/step - loss: 6.3665e-13\n",
            "Epoch 171/200\n",
            "1/1 [==============================] - 0s 8ms/step - loss: 6.3665e-13\n",
            "Epoch 172/200\n",
            "1/1 [==============================] - 0s 8ms/step - loss: 1.0217e-11\n",
            "Epoch 173/200\n",
            "1/1 [==============================] - 0s 5ms/step - loss: 1.0217e-11\n",
            "Epoch 174/200\n",
            "1/1 [==============================] - 0s 5ms/step - loss: 6.3665e-13\n",
            "Epoch 175/200\n",
            "1/1 [==============================] - 0s 6ms/step - loss: 6.3665e-13\n",
            "Epoch 176/200\n",
            "1/1 [==============================] - 0s 5ms/step - loss: 2.1494e-11\n",
            "Epoch 177/200\n",
            "1/1 [==============================] - 0s 5ms/step - loss: 6.3665e-13\n",
            "Epoch 178/200\n",
            "1/1 [==============================] - 0s 5ms/step - loss: 6.3665e-13\n",
            "Epoch 179/200\n",
            "1/1 [==============================] - 0s 11ms/step - loss: 1.0217e-11\n",
            "Epoch 180/200\n",
            "1/1 [==============================] - 0s 5ms/step - loss: 1.0217e-11\n",
            "Epoch 181/200\n",
            "1/1 [==============================] - 0s 5ms/step - loss: 6.3665e-13\n",
            "Epoch 182/200\n",
            "1/1 [==============================] - 0s 5ms/step - loss: 6.3665e-13\n",
            "Epoch 183/200\n",
            "1/1 [==============================] - 0s 8ms/step - loss: 2.1494e-11\n",
            "Epoch 184/200\n",
            "1/1 [==============================] - 0s 6ms/step - loss: 6.3665e-13\n",
            "Epoch 185/200\n",
            "1/1 [==============================] - 0s 7ms/step - loss: 6.3665e-13\n",
            "Epoch 186/200\n",
            "1/1 [==============================] - 0s 5ms/step - loss: 1.0217e-11\n",
            "Epoch 187/200\n",
            "1/1 [==============================] - 0s 10ms/step - loss: 1.0217e-11\n",
            "Epoch 188/200\n",
            "1/1 [==============================] - 0s 6ms/step - loss: 6.3665e-13\n",
            "Epoch 189/200\n",
            "1/1 [==============================] - 0s 6ms/step - loss: 6.3665e-13\n",
            "Epoch 190/200\n",
            "1/1 [==============================] - 0s 9ms/step - loss: 2.1494e-11\n",
            "Epoch 191/200\n",
            "1/1 [==============================] - 0s 8ms/step - loss: 6.3665e-13\n",
            "Epoch 192/200\n",
            "1/1 [==============================] - 0s 6ms/step - loss: 6.3665e-13\n",
            "Epoch 193/200\n",
            "1/1 [==============================] - 0s 12ms/step - loss: 1.0217e-11\n",
            "Epoch 194/200\n",
            "1/1 [==============================] - 0s 9ms/step - loss: 1.0217e-11\n",
            "Epoch 195/200\n",
            "1/1 [==============================] - 0s 7ms/step - loss: 6.3665e-13\n",
            "Epoch 196/200\n",
            "1/1 [==============================] - 0s 10ms/step - loss: 6.3665e-13\n",
            "Epoch 197/200\n",
            "1/1 [==============================] - 0s 9ms/step - loss: 2.1494e-11\n",
            "Epoch 198/200\n",
            "1/1 [==============================] - 0s 16ms/step - loss: 6.3665e-13\n",
            "Epoch 199/200\n",
            "1/1 [==============================] - 0s 15ms/step - loss: 6.3665e-13\n",
            "Epoch 200/200\n",
            "1/1 [==============================] - 0s 8ms/step - loss: 1.0217e-11\n"
          ]
        }
      ]
    },
    {
      "cell_type": "markdown",
      "metadata": {
        "id": "-wRQqOeB5Zh5"
      },
      "source": [
        "# Passo 6: Avaliação do modelo"
      ]
    },
    {
      "cell_type": "code",
      "metadata": {
        "id": "ZWzZwK-QQJTe",
        "colab": {
          "base_uri": "https://localhost:8080/"
        },
        "outputId": "13b15717-2241-4c82-a729-32c948ed47c7"
      },
      "source": [
        "epochs_hist.history.keys()"
      ],
      "execution_count": 75,
      "outputs": [
        {
          "output_type": "execute_result",
          "data": {
            "text/plain": [
              "dict_keys(['loss'])"
            ]
          },
          "metadata": {},
          "execution_count": 75
        }
      ]
    },
    {
      "cell_type": "code",
      "metadata": {
        "id": "dROEBreWQS1e",
        "colab": {
          "base_uri": "https://localhost:8080/",
          "height": 295
        },
        "outputId": "3bdc8eb7-9c9d-4713-e0d2-054ca0467f76"
      },
      "source": [
        "plt.plot(epochs_hist.history['loss'])\n",
        "plt.title('Model Loss Progress During Training')\n",
        "plt.xlabel('Epoch')\n",
        "plt.ylabel('Training loss')\n",
        "plt.legend(['Training loss']);"
      ],
      "execution_count": 76,
      "outputs": [
        {
          "output_type": "display_data",
          "data": {
            "image/png": "[encoded data removed]",
            "text/plain": [
              "<Figure size 432x288 with 1 Axes>"
            ]
          },
          "metadata": {
            "needs_background": "light"
          }
        }
      ]
    },
    {
      "cell_type": "code",
      "metadata": {
        "id": "Nh1rtlAiQ1II",
        "colab": {
          "base_uri": "https://localhost:8080/"
        },
        "outputId": "86145df6-4f8b-45a8-e5f4-9f0010948254"
      },
      "source": [
        "model.get_weights()"
      ],
      "execution_count": 77,
      "outputs": [
        {
          "output_type": "execute_result",
          "data": {
            "text/plain": [
              "[array([[1.7999998]], dtype=float32), array([32.], dtype=float32)]"
            ]
          },
          "metadata": {},
          "execution_count": 77
        }
      ]
    },
    {
      "cell_type": "code",
      "metadata": {
        "id": "OLLe2lIyRQoE",
        "colab": {
          "base_uri": "https://localhost:8080/"
        },
        "outputId": "ea450928-84b5-4fe2-ffed-f561c03640d4"
      },
      "source": [
        "temp_c = 17\n",
        "temp_f = model.predict([temp_c])\n",
        "temp_f"
      ],
      "execution_count": 78,
      "outputs": [
        {
          "output_type": "execute_result",
          "data": {
            "text/plain": [
              "array([[62.6]], dtype=float32)"
            ]
          },
          "metadata": {},
          "execution_count": 78
        }
      ]
    },
    {
      "cell_type": "code",
      "metadata": {
        "id": "lY-oY_FrRdPw",
        "colab": {
          "base_uri": "https://localhost:8080/"
        },
        "outputId": "a106a4bf-483c-4dab-ce30-15b87545d4f3"
      },
      "source": [
        "temp_f1 = 9/5 * temp_c + 32\n",
        "temp_f1"
      ],
      "execution_count": 79,
      "outputs": [
        {
          "output_type": "execute_result",
          "data": {
            "text/plain": [
              "62.6"
            ]
          },
          "metadata": {},
          "execution_count": 79
        }
      ]
    }
  ]
}